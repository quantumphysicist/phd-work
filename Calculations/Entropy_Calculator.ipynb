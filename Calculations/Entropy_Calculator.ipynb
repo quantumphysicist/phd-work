{
 "cells": [
  {
   "cell_type": "code",
   "execution_count": 3,
   "metadata": {},
   "outputs": [
    {
     "name": "stdout",
     "output_type": "stream",
     "text": [
      "Total_zero_in_sample = 3, Total_one_in_sample = 1, Total = 4\n",
      "prob_zero = 0.75, prob_one = 0.25\n",
      "Entropy =  -(3/4)*log(3/4) -(1/4)*log(1/4)\n",
      "Entropy = -0.75*log(0.75) - 0.25*log(0.25)\n",
      "Entropy = -0.75*-0.4150374992788438 - 0.25*-2.0\n",
      "Entropy = 0.8112781244591328\n"
     ]
    }
   ],
   "source": [
    "import numpy as np\n",
    "\n",
    "def calculate_entropy(sample, verbose=False):\n",
    "    \"\"\"\n",
    "    Calculate the entropy of a binary sample (0s and 1s).\n",
    "\n",
    "    Entropy is computed using the formula:\n",
    "    Entropy = -p(0) * log2(p(0)) - p(1) * log2(p(1)),\n",
    "    where p(0) and p(1) are the probabilities of 0s and 1s in the sample.\n",
    "\n",
    "    Parameters:\n",
    "    sample (list of int): A binary sample containing only 0s and 1s.\n",
    "    verbose (bool, optional): If True, prints the calculation process. Defaults to False.\n",
    "\n",
    "    Returns:\n",
    "    float or None: The calculated entropy of the sample, or None if the sample is empty.\n",
    "\n",
    "    Example:\n",
    "    >>> calculate_entropy([0, 0, 1, 1], verbose=True)\n",
    "    1.0\n",
    "    \"\"\"\n",
    "    Total_zero_in_sample = sample.count(0)\n",
    "    Total_one_in_sample = sample.count(1)\n",
    "    Total = len(sample)\n",
    "\n",
    "    if Total == 0:\n",
    "        return None\n",
    "\n",
    "    prob_zero = Total_zero_in_sample / Total\n",
    "    prob_one = Total_one_in_sample / Total\n",
    "\n",
    "    if verbose:\n",
    "        print(f\"Total_zero_in_sample = {Total_zero_in_sample}, Total_one_in_sample = {Total_one_in_sample}, Total = {Total}\")\n",
    "        print(f\"prob_zero = {prob_zero}, prob_one = {prob_one}\")\n",
    "\n",
    "    entropy = 0\n",
    "    entropy_calculation_str = \"Entropy = \"\n",
    "\n",
    "    if prob_zero > 0:\n",
    "        entropy -= prob_zero * np.log2(prob_zero)\n",
    "        entropy_calculation_str += f\" -({Total_zero_in_sample}/{Total})*log({Total_zero_in_sample}/{Total})\"\n",
    "    if prob_one > 0:\n",
    "        entropy -= prob_one * np.log2(prob_one)\n",
    "        entropy_calculation_str += f\" -({Total_one_in_sample}/{Total})*log({Total_one_in_sample}/{Total})\"\n",
    "\n",
    "    if verbose:\n",
    "        print(entropy_calculation_str)\n",
    "        print(f\"Entropy = -{Total_zero_in_sample/Total}*log({Total_zero_in_sample/Total}) - {Total_one_in_sample/Total}*log({Total_one_in_sample/Total})\")\n",
    "        print(f\"Entropy = -{prob_zero}*{np.log2(prob_zero)} - {prob_one}*{np.log2(prob_one)}\")\n",
    "\n",
    "    return entropy\n",
    "\n",
    "# Example usage with verbose output\n",
    "sample = [0, 0, 0, 1]\n",
    "entropy = calculate_entropy(sample, verbose=True)\n",
    "print(f\"Entropy = {entropy}\")"
   ]
  },
  {
   "cell_type": "code",
   "execution_count": 4,
   "metadata": {},
   "outputs": [
    {
     "name": "stdout",
     "output_type": "stream",
     "text": [
      "0.8112781244591328\n"
     ]
    }
   ],
   "source": [
    "import scipy.stats\n",
    "print( scipy.stats.entropy([3,1], base=2) )"
   ]
  },
  {
   "cell_type": "code",
   "execution_count": null,
   "metadata": {},
   "outputs": [],
   "source": []
  }
 ],
 "metadata": {
  "kernelspec": {
   "display_name": "data",
   "language": "python",
   "name": "python3"
  },
  "language_info": {
   "codemirror_mode": {
    "name": "ipython",
    "version": 3
   },
   "file_extension": ".py",
   "mimetype": "text/x-python",
   "name": "python",
   "nbconvert_exporter": "python",
   "pygments_lexer": "ipython3",
   "version": "3.10.10"
  }
 },
 "nbformat": 4,
 "nbformat_minor": 2
}
