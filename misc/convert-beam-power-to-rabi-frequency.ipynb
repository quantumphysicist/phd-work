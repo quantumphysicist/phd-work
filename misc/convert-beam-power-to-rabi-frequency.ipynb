{
 "cells": [
  {
   "cell_type": "markdown",
   "metadata": {},
   "source": [
    "Author: Dr. Renju Mathew  \n",
    "Please see author's PhD thesis for definitions of \"pump\", \"coupling\", and \"seed\"\n",
    "\n",
    "Based on code created by Dr. Dan Whiting"
   ]
  },
  {
   "cell_type": "code",
   "execution_count": 2,
   "metadata": {},
   "outputs": [],
   "source": [
    "import numpy as np"
   ]
  },
  {
   "cell_type": "code",
   "execution_count": 3,
   "metadata": {},
   "outputs": [],
   "source": [
    "e = 1.602e-19\n",
    "a0 = 5.29e-11\n",
    "c = 3E8\n",
    "e0 = 8.8541878128E-12\n",
    "hbar = 1.054571817E-34"
   ]
  },
  {
   "cell_type": "code",
   "execution_count": 4,
   "metadata": {},
   "outputs": [
    {
     "name": "stdout",
     "output_type": "stream",
     "text": [
      "10.307257063525334 * 2Pi [MHz]\n",
      "176.7074808758883 * 2Pi [MHz]\n",
      "8.355904542920856 * 2Pi [MHz]\n"
     ]
    }
   ],
   "source": [
    "def power_to_rabi(P,d,w=50e-6,n=1):\n",
    "    '''\n",
    "    Converts laser beam power to Rabi frequency\n",
    "    I0 = maximum beam intensity\n",
    "    d = dipole strength\n",
    "    w = beam waist\n",
    "    n = refractive index\n",
    "    '''    \n",
    "    \n",
    "    I0 = 2*P/(np.pi*w**2)\n",
    "    E0 = (2*I0/(c*n*e0))**.5\n",
    "    Rabi = d*E0/hbar\n",
    "    return Rabi/(2*np.pi*1e6)\n",
    "\n",
    "#pump\n",
    "print (power_to_rabi(0.74*0.92*1e-6,5.978*e*a0*1/2,w=67e-6), '* 2Pi [MHz]')\n",
    "#coupling\n",
    "print (power_to_rabi(0.74*0.92*34e-3,0.787*e*a0*1/10**.5,w=60e-6), '* 2Pi [MHz]')\n",
    "#seed\n",
    "print (power_to_rabi(0.74*0.87*0.92*1e-6,4.231*e*a0*1/3**.5,w=63e-6), '* 2Pi [MHz]')"
   ]
  },
  {
   "cell_type": "code",
   "execution_count": null,
   "metadata": {},
   "outputs": [],
   "source": []
  }
 ],
 "metadata": {
  "kernelspec": {
   "display_name": "Python 3",
   "language": "python",
   "name": "python3"
  },
  "language_info": {
   "codemirror_mode": {
    "name": "ipython",
    "version": 3
   },
   "file_extension": ".py",
   "mimetype": "text/x-python",
   "name": "python",
   "nbconvert_exporter": "python",
   "pygments_lexer": "ipython3",
   "version": "3.9.5"
  }
 },
 "nbformat": 4,
 "nbformat_minor": 2
}
