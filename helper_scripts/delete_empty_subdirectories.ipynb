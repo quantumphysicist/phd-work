{
 "cells": [
  {
   "cell_type": "code",
   "execution_count": 3,
   "metadata": {},
   "outputs": [],
   "source": [
    "import os\n",
    "\n",
    "def get_empty_directories(startpath):\n",
    "    empty_dirs = []\n",
    "    for root, dirs, files in os.walk(startpath):\n",
    "        # If the directory is empty (no subdirectories and no files)\n",
    "        if not dirs and not files:\n",
    "            # Add the absolute path of the empty directory to the list\n",
    "            empty_dirs.append(os.path.abspath(root))\n",
    "    return empty_dirs"
   ]
  },
  {
   "cell_type": "code",
   "execution_count": 4,
   "metadata": {},
   "outputs": [],
   "source": [
    "# Because this can be dangerous, we will first determine the directories to delete\n",
    "# and then delete them.\n",
    "# We could simply have used os.rmdir() because it will only delete empty directories.\n",
    "# We are just being extra careful here."
   ]
  },
  {
   "cell_type": "code",
   "execution_count": 5,
   "metadata": {},
   "outputs": [
    {
     "name": "stdout",
     "output_type": "stream",
     "text": [
      "Empty subdirectories in the current directory:\n"
     ]
    }
   ],
   "source": [
    "# Get the current working directory\n",
    "current_directory = os.getcwd()\n",
    "empty_directories = get_empty_directories(current_directory)\n",
    "\n",
    "print(\"Empty subdirectories in the current directory:\")\n",
    "for d in empty_directories:\n",
    "    print(d)"
   ]
  },
  {
   "cell_type": "code",
   "execution_count": 6,
   "metadata": {},
   "outputs": [],
   "source": [
    "import os\n",
    "\n",
    "for directory in empty_directories:\n",
    "    try:\n",
    "        if os.path.exists(directory) and not os.listdir(directory):  # Double-check that the directory exists and is empty\n",
    "            os.rmdir(directory)  # Delete the empty directory\n",
    "            print(f\"The empty directory {directory} has been deleted.\")\n",
    "        else:\n",
    "            print(f\"The directory {directory} is not empty or does not exist.\")\n",
    "    except OSError as e:\n",
    "        print(f\"An error occurred: {e.strerror}. Directory {directory} may not be empty or could not be deleted.\")"
   ]
  },
  {
   "cell_type": "code",
   "execution_count": null,
   "metadata": {},
   "outputs": [],
   "source": []
  }
 ],
 "metadata": {
  "kernelspec": {
   "display_name": "data",
   "language": "python",
   "name": "python3"
  },
  "language_info": {
   "codemirror_mode": {
    "name": "ipython",
    "version": 3
   },
   "file_extension": ".py",
   "mimetype": "text/x-python",
   "name": "python",
   "nbconvert_exporter": "python",
   "pygments_lexer": "ipython3",
   "version": "3.10.10"
  }
 },
 "nbformat": 4,
 "nbformat_minor": 2
}
