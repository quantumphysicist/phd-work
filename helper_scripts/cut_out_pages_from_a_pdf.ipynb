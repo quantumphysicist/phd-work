{
 "cells": [
  {
   "cell_type": "code",
   "execution_count": null,
   "metadata": {},
   "outputs": [],
   "source": [
    "import os\n",
    "from PyPDF2 import PdfReader, PdfWriter\n",
    "\n",
    "def get_most_recent_pdf():\n",
    "    \"\"\"Get the most recently created PDF file in the current directory.\"\"\"\n",
    "    pdf_files = [f for f in os.listdir('.') if f.endswith('.pdf')]\n",
    "    if not pdf_files:\n",
    "        raise FileNotFoundError(\"No PDF files found in the current directory.\")\n",
    "    most_recent_pdf = max(pdf_files, key=os.path.getctime)\n",
    "    return most_recent_pdf\n",
    "\n",
    "def keep_pages(input_pdf, output_pdf, start_page, end_page):\n",
    "    \"\"\"Extract pages from input PDF and save to output PDF.\"\"\"\n",
    "    # Read the PDF\n",
    "    reader = PdfReader(input_pdf)\n",
    "    writer = PdfWriter()\n",
    "\n",
    "    # Add pages in the specified range (converting to 0-based indexing)\n",
    "    for page_num in range(start_page - 1, end_page):\n",
    "        writer.add_page(reader.pages[page_num])\n",
    "\n",
    "    # Write the new PDF\n",
    "    with open(output_pdf, \"wb\") as output_file:\n",
    "        writer.write(output_file)\n",
    "\n",
    "# Identify the most recently created PDF in the directory\n",
    "input_pdf = get_most_recent_pdf()\n",
    "start_page = 1\n",
    "end_page = 10\n",
    "output_pdf = f\"output_pages_{start_page}_to_{end_page}.pdf\"\n",
    "\n",
    "# Print information about the files\n",
    "print(\"The most recently created PDF file is:\", input_pdf)\n",
    "print(\"The output PDF file will be saved as:\", output_pdf)\n",
    "\n",
    "# Perform the operation\n",
    "keep_pages(input_pdf, output_pdf, start_page=start_page, end_page=end_page)\n",
    "print(\"The pages from\", start_page, \"to\", end_page, \"have been saved as\", output_pdf)\n"
   ]
  },
  {
   "cell_type": "code",
   "execution_count": null,
   "metadata": {},
   "outputs": [],
   "source": []
  }
 ],
 "metadata": {
  "kernelspec": {
   "display_name": "data",
   "language": "python",
   "name": "python3"
  },
  "language_info": {
   "codemirror_mode": {
    "name": "ipython",
    "version": 3
   },
   "file_extension": ".py",
   "mimetype": "text/x-python",
   "name": "python",
   "nbconvert_exporter": "python",
   "pygments_lexer": "ipython3",
   "version": "3.11.7"
  }
 },
 "nbformat": 4,
 "nbformat_minor": 2
}
