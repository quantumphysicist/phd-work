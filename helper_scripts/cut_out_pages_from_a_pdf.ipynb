{
 "cells": [
  {
   "cell_type": "code",
   "execution_count": null,
   "metadata": {},
   "outputs": [],
   "source": [
    "from PyPDF2 import PdfReader, PdfWriter\n",
    "\n",
    "def keep_pages(input_pdf, output_pdf, start_page, end_page):\n",
    "    # Read the PDF\n",
    "    reader = PdfReader(input_pdf)\n",
    "    writer = PdfWriter()\n",
    "\n",
    "    # Add pages in the specified range (converting to 0-based indexing)\n",
    "    for page_num in range(start_page - 1, end_page):\n",
    "        writer.add_page(reader.pages[page_num])\n",
    "\n",
    "    # Write the new PDF\n",
    "    with open(output_pdf, \"wb\") as output_file:\n",
    "        writer.write(output_file)\n",
    "\n",
    "# Example usage\n",
    "input_pdf = \"Sample.pdf\"  # Replace with your input file\n",
    "start_page=40\n",
    "end_page=52\n",
    "output_pdf = f\"output_pages_{start_page}_to_{end_page}.pdf\"  \n",
    "print(\"The input pdf file is:\", input_pdf)\n",
    "print(\"The output pdf file will be saved as:\", output_pdf)\n",
    "keep_pages(input_pdf, output_pdf, start_page=start_page, end_page=end_page)\n",
    "print(\"The pages from\", start_page, \"to\", end_page, \"have been saved as\", output_pdf)\n"
   ]
  }
 ],
 "metadata": {
  "kernelspec": {
   "display_name": "data",
   "language": "python",
   "name": "python3"
  },
  "language_info": {
   "codemirror_mode": {
    "name": "ipython",
    "version": 3
   },
   "file_extension": ".py",
   "mimetype": "text/x-python",
   "name": "python",
   "nbconvert_exporter": "python",
   "pygments_lexer": "ipython3",
   "version": "3.10.10"
  }
 },
 "nbformat": 4,
 "nbformat_minor": 2
}
