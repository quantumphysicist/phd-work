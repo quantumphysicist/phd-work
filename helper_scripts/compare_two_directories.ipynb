{
 "cells": [
  {
   "cell_type": "code",
   "execution_count": null,
   "metadata": {},
   "outputs": [],
   "source": [
    "'''\n",
    "This notebook compares two directories and prints out the files that are in directory1 but not in directory2 and vice versa.\n",
    "'''"
   ]
  },
  {
   "cell_type": "code",
   "execution_count": null,
   "metadata": {},
   "outputs": [],
   "source": [
    "directory1 = r\"D:\\A\\\"\n",
    "directory2 = r\"D:\\B\\\""
   ]
  },
  {
   "cell_type": "code",
   "execution_count": null,
   "metadata": {},
   "outputs": [],
   "source": [
    "import os\n",
    "\n",
    "def get_all_file_paths(directory):\n",
    "    \"\"\"\n",
    "    Walk through a directory, return the full path of all files\n",
    "    \"\"\"\n",
    "    file_paths = []\n",
    "    for root, dirs, files in os.walk(directory):\n",
    "        for file in files:\n",
    "            file_paths.append(os.path.relpath(os.path.join(root, file), directory))\n",
    "    return set(file_paths)\n",
    "\n",
    "# Get the list of file paths in each directory\n",
    "files_in_directory1 = get_all_file_paths(directory1)\n",
    "files_in_directory2 = get_all_file_paths(directory2)\n",
    "\n",
    "# Find file paths that are in directory1 but not in directory2\n",
    "unique_files1 = files_in_directory1 - files_in_directory2\n",
    "unique_files2 = files_in_directory2 - files_in_directory1"
   ]
  },
  {
   "cell_type": "code",
   "execution_count": null,
   "metadata": {},
   "outputs": [],
   "source": [
    "# Print the list of unique files in directory1\n",
    "print(f\"Files in {directory1} that are not in {directory2}:\")\n",
    "for file_path in unique_files1:\n",
    "    print(file_path)"
   ]
  },
  {
   "cell_type": "code",
   "execution_count": null,
   "metadata": {},
   "outputs": [],
   "source": [
    "# Print the list of unique files in directory2\n",
    "print(f\"\\nFiles in {directory2} that are not in {directory1}:\")\n",
    "for file_path in unique_files2:\n",
    "    print(file_path)"
   ]
  },
  {
   "cell_type": "code",
   "execution_count": null,
   "metadata": {},
   "outputs": [],
   "source": []
  }
 ],
 "metadata": {
  "kernelspec": {
   "display_name": "data",
   "language": "python",
   "name": "python3"
  },
  "language_info": {
   "codemirror_mode": {
    "name": "ipython",
    "version": 3
   },
   "file_extension": ".py",
   "mimetype": "text/x-python",
   "name": "python",
   "nbconvert_exporter": "python",
   "pygments_lexer": "ipython3",
   "version": "3.10.10"
  }
 },
 "nbformat": 4,
 "nbformat_minor": 2
}
