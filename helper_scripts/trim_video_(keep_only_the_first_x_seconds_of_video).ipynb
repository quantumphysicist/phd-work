{
 "cells": [
  {
   "cell_type": "code",
   "execution_count": 7,
   "id": "5d48511f",
   "metadata": {},
   "outputs": [
    {
     "name": "stdout",
     "output_type": "stream",
     "text": [
      "2.1.2\n"
     ]
    }
   ],
   "source": [
    "import moviepy\n",
    "print(moviepy.__version__)"
   ]
  },
  {
   "cell_type": "code",
   "execution_count": null,
   "id": "fb30e2b4",
   "metadata": {},
   "outputs": [
    {
     "name": "stdout",
     "output_type": "stream",
     "text": [
      "MoviePy - Building video trimmed_video.mp4.\n",
      "MoviePy - Writing audio in trimmed_videoTEMP_MPY_wvf_snd.mp4\n"
     ]
    },
    {
     "name": "stderr",
     "output_type": "stream",
     "text": [
      "                                                                        \r"
     ]
    },
    {
     "name": "stdout",
     "output_type": "stream",
     "text": [
      "MoviePy - Done.\n",
      "MoviePy - Writing video trimmed_video.mp4\n",
      "\n"
     ]
    },
    {
     "name": "stderr",
     "output_type": "stream",
     "text": [
      "                                                                            \r"
     ]
    },
    {
     "name": "stdout",
     "output_type": "stream",
     "text": [
      "MoviePy - Done !\n",
      "MoviePy - video ready trimmed_video.mp4\n"
     ]
    }
   ],
   "source": [
    "'''Note that we can do this with fmpeg directly, \n",
    "but this MoviePy example shows how to use the library for video processing.\n",
    "'''\n",
    "from moviepy import VideoFileClip\n",
    "\n",
    "input_path = \"video.mp4\"\n",
    "output_path = \"trimmed_video.mp4\"\n",
    "\n",
    "# Load the video clip using the top‐level import\n",
    "clip = VideoFileClip(input_path)  # v2.x import \n",
    "\n",
    "# Desired trim length: 23 minutes and 32 seconds\n",
    "x = 23  # minutes\n",
    "y = 32  # seconds\n",
    "target_seconds = (x * 60) + y\n",
    "\n",
    "# Compute the effective end time (don’t exceed the clip’s duration)\n",
    "end_time = min(target_seconds, clip.duration)  # clip.duration is in seconds \n",
    "\n",
    "# **Key Change for v2.x**: use subclipped(...) instead of subclip(...)\n",
    "trimmed_clip = clip.subclipped(0, end_time)  # v2 method name \n",
    "\n",
    "# Write out the trimmed clip (re‐encoding H.264 + AAC)\n",
    "trimmed_clip.write_videofile(\n",
    "    output_path,\n",
    "    codec=\"libx264\",\n",
    "    audio_codec=\"aac\"\n",
    ")\n",
    "\n",
    "# Close clips to free resources\n",
    "trimmed_clip.close()\n",
    "clip.close()\n"
   ]
  },
  {
   "cell_type": "code",
   "execution_count": null,
   "id": "0442195f",
   "metadata": {},
   "outputs": [],
   "source": []
  }
 ],
 "metadata": {
  "kernelspec": {
   "display_name": "digital",
   "language": "python",
   "name": "python3"
  },
  "language_info": {
   "codemirror_mode": {
    "name": "ipython",
    "version": 3
   },
   "file_extension": ".py",
   "mimetype": "text/x-python",
   "name": "python",
   "nbconvert_exporter": "python",
   "pygments_lexer": "ipython3",
   "version": "3.11.7"
  }
 },
 "nbformat": 4,
 "nbformat_minor": 5
}
